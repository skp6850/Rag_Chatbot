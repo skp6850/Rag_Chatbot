{
 "cells": [
  {
   "cell_type": "markdown",
   "metadata": {},
   "source": [
    "# Ollama PDF RAG Notebook"
   ]
  },
  {
   "cell_type": "markdown",
   "metadata": {},
   "source": [
    "## Import Libraries\n"
   ]
  },
  {
   "cell_type": "code",
   "metadata": {
    "ExecuteTime": {
     "end_time": "2025-08-02T19:22:42.630571Z",
     "start_time": "2025-08-02T19:22:09.484996Z"
    }
   },
   "source": "%pip install \"unstructured[pdf]\"",
   "outputs": [
    {
     "name": "stderr",
     "output_type": "stream",
     "text": [
      "WARNING: Ignoring invalid distribution ~orch (C:\\Users\\skp68\\PycharmProjects\\RAGOLLAMA\\.venv\\Lib\\site-packages)\n",
      "WARNING: Ignoring invalid distribution ~orch (C:\\Users\\skp68\\PycharmProjects\\RAGOLLAMA\\.venv\\Lib\\site-packages)\n",
      "ERROR: Could not install packages due to an OSError: [WinError 32] The process cannot access the file because it is being used by another process: 'C:\\\\Users\\\\skp68\\\\PycharmProjects\\\\RAGOLLAMA\\\\.venv\\\\Lib\\\\site-packages\\\\torch\\\\contrib\\\\_tensorboard_vis.py'\n",
      "Check the permissions.\n",
      "\n",
      "\n",
      "[notice] A new release of pip is available: 25.1.1 -> 25.2\n",
      "[notice] To update, run: python.exe -m pip install --upgrade pip\n"
     ]
    },
    {
     "name": "stdout",
     "output_type": "stream",
     "text": [
      "Requirement already satisfied: unstructured[pdf] in c:\\users\\skp68\\pycharmprojects\\ragollama\\.venv\\lib\\site-packages (0.18.11)\n",
      "Requirement already satisfied: charset-normalizer in c:\\users\\skp68\\pycharmprojects\\ragollama\\.venv\\lib\\site-packages (from unstructured[pdf]) (3.4.2)\n",
      "Requirement already satisfied: filetype in c:\\users\\skp68\\pycharmprojects\\ragollama\\.venv\\lib\\site-packages (from unstructured[pdf]) (1.2.0)\n",
      "Requirement already satisfied: python-magic in c:\\users\\skp68\\pycharmprojects\\ragollama\\.venv\\lib\\site-packages (from unstructured[pdf]) (0.4.27)\n",
      "Requirement already satisfied: lxml in c:\\users\\skp68\\pycharmprojects\\ragollama\\.venv\\lib\\site-packages (from unstructured[pdf]) (6.0.0)\n",
      "Requirement already satisfied: nltk in c:\\users\\skp68\\pycharmprojects\\ragollama\\.venv\\lib\\site-packages (from unstructured[pdf]) (3.9.1)\n",
      "Requirement already satisfied: requests in c:\\users\\skp68\\pycharmprojects\\ragollama\\.venv\\lib\\site-packages (from unstructured[pdf]) (2.32.4)\n",
      "Requirement already satisfied: beautifulsoup4 in c:\\users\\skp68\\pycharmprojects\\ragollama\\.venv\\lib\\site-packages (from unstructured[pdf]) (4.13.4)\n",
      "Requirement already satisfied: emoji in c:\\users\\skp68\\pycharmprojects\\ragollama\\.venv\\lib\\site-packages (from unstructured[pdf]) (2.14.1)\n",
      "Requirement already satisfied: dataclasses-json in c:\\users\\skp68\\pycharmprojects\\ragollama\\.venv\\lib\\site-packages (from unstructured[pdf]) (0.6.7)\n",
      "Requirement already satisfied: python-iso639 in c:\\users\\skp68\\pycharmprojects\\ragollama\\.venv\\lib\\site-packages (from unstructured[pdf]) (2025.2.18)\n",
      "Requirement already satisfied: langdetect in c:\\users\\skp68\\pycharmprojects\\ragollama\\.venv\\lib\\site-packages (from unstructured[pdf]) (1.0.9)\n",
      "Requirement already satisfied: numpy in c:\\users\\skp68\\pycharmprojects\\ragollama\\.venv\\lib\\site-packages (from unstructured[pdf]) (2.2.6)\n",
      "Requirement already satisfied: rapidfuzz in c:\\users\\skp68\\pycharmprojects\\ragollama\\.venv\\lib\\site-packages (from unstructured[pdf]) (3.13.0)\n",
      "Requirement already satisfied: backoff in c:\\users\\skp68\\pycharmprojects\\ragollama\\.venv\\lib\\site-packages (from unstructured[pdf]) (2.2.1)\n",
      "Requirement already satisfied: typing-extensions in c:\\users\\skp68\\pycharmprojects\\ragollama\\.venv\\lib\\site-packages (from unstructured[pdf]) (4.14.1)\n",
      "Requirement already satisfied: unstructured-client in c:\\users\\skp68\\pycharmprojects\\ragollama\\.venv\\lib\\site-packages (from unstructured[pdf]) (0.42.0)\n",
      "Requirement already satisfied: wrapt in c:\\users\\skp68\\pycharmprojects\\ragollama\\.venv\\lib\\site-packages (from unstructured[pdf]) (1.17.2)\n",
      "Requirement already satisfied: tqdm in c:\\users\\skp68\\pycharmprojects\\ragollama\\.venv\\lib\\site-packages (from unstructured[pdf]) (4.67.1)\n",
      "Requirement already satisfied: psutil in c:\\users\\skp68\\pycharmprojects\\ragollama\\.venv\\lib\\site-packages (from unstructured[pdf]) (7.0.0)\n",
      "Requirement already satisfied: python-oxmsg in c:\\users\\skp68\\pycharmprojects\\ragollama\\.venv\\lib\\site-packages (from unstructured[pdf]) (0.0.2)\n",
      "Requirement already satisfied: html5lib in c:\\users\\skp68\\pycharmprojects\\ragollama\\.venv\\lib\\site-packages (from unstructured[pdf]) (1.1)\n",
      "Requirement already satisfied: onnx>=1.17.0 in c:\\users\\skp68\\pycharmprojects\\ragollama\\.venv\\lib\\site-packages (from unstructured[pdf]) (1.18.0)\n",
      "Requirement already satisfied: onnxruntime>=1.19.0 in c:\\users\\skp68\\pycharmprojects\\ragollama\\.venv\\lib\\site-packages (from unstructured[pdf]) (1.22.1)\n",
      "Requirement already satisfied: pdf2image in c:\\users\\skp68\\pycharmprojects\\ragollama\\.venv\\lib\\site-packages (from unstructured[pdf]) (1.17.0)\n",
      "Requirement already satisfied: pdfminer.six in c:\\users\\skp68\\pycharmprojects\\ragollama\\.venv\\lib\\site-packages (from unstructured[pdf]) (20221105)\n",
      "Collecting pikepdf (from unstructured[pdf])\n",
      "  Using cached pikepdf-9.10.2-cp312-cp312-win_amd64.whl.metadata (8.2 kB)\n",
      "Requirement already satisfied: pi-heif in c:\\users\\skp68\\pycharmprojects\\ragollama\\.venv\\lib\\site-packages (from unstructured[pdf]) (1.1.0)\n",
      "Requirement already satisfied: pypdf in c:\\users\\skp68\\pycharmprojects\\ragollama\\.venv\\lib\\site-packages (from unstructured[pdf]) (5.9.0)\n",
      "Collecting google-cloud-vision (from unstructured[pdf])\n",
      "  Using cached google_cloud_vision-3.10.2-py3-none-any.whl.metadata (9.6 kB)\n",
      "Collecting effdet (from unstructured[pdf])\n",
      "  Using cached effdet-0.4.1-py3-none-any.whl.metadata (33 kB)\n",
      "Collecting unstructured-inference>=1.0.5 (from unstructured[pdf])\n",
      "  Using cached unstructured_inference-1.0.5-py3-none-any.whl.metadata (5.3 kB)\n",
      "Requirement already satisfied: unstructured.pytesseract>=0.3.12 in c:\\users\\skp68\\pycharmprojects\\ragollama\\.venv\\lib\\site-packages (from unstructured[pdf]) (0.3.15)\n",
      "Requirement already satisfied: protobuf>=4.25.1 in c:\\users\\skp68\\pycharmprojects\\ragollama\\.venv\\lib\\site-packages (from onnx>=1.17.0->unstructured[pdf]) (6.31.1)\n",
      "Requirement already satisfied: coloredlogs in c:\\users\\skp68\\pycharmprojects\\ragollama\\.venv\\lib\\site-packages (from onnxruntime>=1.19.0->unstructured[pdf]) (15.0.1)\n",
      "Requirement already satisfied: flatbuffers in c:\\users\\skp68\\pycharmprojects\\ragollama\\.venv\\lib\\site-packages (from onnxruntime>=1.19.0->unstructured[pdf]) (25.2.10)\n",
      "Requirement already satisfied: packaging in c:\\users\\skp68\\pycharmprojects\\ragollama\\.venv\\lib\\site-packages (from onnxruntime>=1.19.0->unstructured[pdf]) (23.2)\n",
      "Requirement already satisfied: sympy in c:\\users\\skp68\\pycharmprojects\\ragollama\\.venv\\lib\\site-packages (from onnxruntime>=1.19.0->unstructured[pdf]) (1.14.0)\n",
      "Requirement already satisfied: python-multipart in c:\\users\\skp68\\pycharmprojects\\ragollama\\.venv\\lib\\site-packages (from unstructured-inference>=1.0.5->unstructured[pdf]) (0.0.20)\n",
      "Requirement already satisfied: huggingface-hub in c:\\users\\skp68\\pycharmprojects\\ragollama\\.venv\\lib\\site-packages (from unstructured-inference>=1.0.5->unstructured[pdf]) (0.34.3)\n",
      "Requirement already satisfied: opencv-python!=4.7.0.68 in c:\\users\\skp68\\pycharmprojects\\ragollama\\.venv\\lib\\site-packages (from unstructured-inference>=1.0.5->unstructured[pdf]) (4.12.0.88)\n",
      "Collecting matplotlib (from unstructured-inference>=1.0.5->unstructured[pdf])\n",
      "  Using cached matplotlib-3.10.5-cp312-cp312-win_amd64.whl.metadata (11 kB)\n",
      "Collecting torch (from unstructured-inference>=1.0.5->unstructured[pdf])\n",
      "  Using cached torch-2.7.1-cp312-cp312-win_amd64.whl.metadata (28 kB)\n",
      "Collecting timm (from unstructured-inference>=1.0.5->unstructured[pdf])\n",
      "  Using cached timm-1.0.19-py3-none-any.whl.metadata (60 kB)\n",
      "Requirement already satisfied: transformers>=4.25.1 in c:\\users\\skp68\\pycharmprojects\\ragollama\\.venv\\lib\\site-packages (from unstructured-inference>=1.0.5->unstructured[pdf]) (4.41.2)\n",
      "Requirement already satisfied: accelerate in c:\\users\\skp68\\pycharmprojects\\ragollama\\.venv\\lib\\site-packages (from unstructured-inference>=1.0.5->unstructured[pdf]) (0.30.1)\n",
      "Requirement already satisfied: pandas in c:\\users\\skp68\\pycharmprojects\\ragollama\\.venv\\lib\\site-packages (from unstructured-inference>=1.0.5->unstructured[pdf]) (2.3.1)\n",
      "Requirement already satisfied: scipy in c:\\users\\skp68\\pycharmprojects\\ragollama\\.venv\\lib\\site-packages (from unstructured-inference>=1.0.5->unstructured[pdf]) (1.16.1)\n",
      "Requirement already satisfied: pypdfium2 in c:\\users\\skp68\\pycharmprojects\\ragollama\\.venv\\lib\\site-packages (from unstructured-inference>=1.0.5->unstructured[pdf]) (4.30.0)\n",
      "Requirement already satisfied: filelock in c:\\users\\skp68\\pycharmprojects\\ragollama\\.venv\\lib\\site-packages (from transformers>=4.25.1->unstructured-inference>=1.0.5->unstructured[pdf]) (3.18.0)\n",
      "Requirement already satisfied: pyyaml>=5.1 in c:\\users\\skp68\\pycharmprojects\\ragollama\\.venv\\lib\\site-packages (from transformers>=4.25.1->unstructured-inference>=1.0.5->unstructured[pdf]) (6.0.2)\n",
      "Requirement already satisfied: regex!=2019.12.17 in c:\\users\\skp68\\pycharmprojects\\ragollama\\.venv\\lib\\site-packages (from transformers>=4.25.1->unstructured-inference>=1.0.5->unstructured[pdf]) (2025.7.34)\n",
      "Requirement already satisfied: tokenizers<0.20,>=0.19 in c:\\users\\skp68\\pycharmprojects\\ragollama\\.venv\\lib\\site-packages (from transformers>=4.25.1->unstructured-inference>=1.0.5->unstructured[pdf]) (0.19.1)\n",
      "Requirement already satisfied: safetensors>=0.4.1 in c:\\users\\skp68\\pycharmprojects\\ragollama\\.venv\\lib\\site-packages (from transformers>=4.25.1->unstructured-inference>=1.0.5->unstructured[pdf]) (0.5.3)\n",
      "Requirement already satisfied: fsspec>=2023.5.0 in c:\\users\\skp68\\pycharmprojects\\ragollama\\.venv\\lib\\site-packages (from huggingface-hub->unstructured-inference>=1.0.5->unstructured[pdf]) (2025.7.0)\n",
      "Requirement already satisfied: colorama in c:\\users\\skp68\\pycharmprojects\\ragollama\\.venv\\lib\\site-packages (from tqdm->unstructured[pdf]) (0.4.6)\n",
      "Requirement already satisfied: Pillow>=8.0.0 in c:\\users\\skp68\\pycharmprojects\\ragollama\\.venv\\lib\\site-packages (from unstructured.pytesseract>=0.3.12->unstructured[pdf]) (11.3.0)\n",
      "Requirement already satisfied: networkx in c:\\users\\skp68\\pycharmprojects\\ragollama\\.venv\\lib\\site-packages (from torch->unstructured-inference>=1.0.5->unstructured[pdf]) (3.5)\n",
      "Requirement already satisfied: jinja2 in c:\\users\\skp68\\pycharmprojects\\ragollama\\.venv\\lib\\site-packages (from torch->unstructured-inference>=1.0.5->unstructured[pdf]) (3.1.6)\n",
      "Requirement already satisfied: setuptools in c:\\users\\skp68\\pycharmprojects\\ragollama\\.venv\\lib\\site-packages (from torch->unstructured-inference>=1.0.5->unstructured[pdf]) (80.9.0)\n",
      "Requirement already satisfied: mpmath<1.4,>=1.1.0 in c:\\users\\skp68\\pycharmprojects\\ragollama\\.venv\\lib\\site-packages (from sympy->onnxruntime>=1.19.0->unstructured[pdf]) (1.3.0)\n",
      "Requirement already satisfied: soupsieve>1.2 in c:\\users\\skp68\\pycharmprojects\\ragollama\\.venv\\lib\\site-packages (from beautifulsoup4->unstructured[pdf]) (2.7)\n",
      "Requirement already satisfied: humanfriendly>=9.1 in c:\\users\\skp68\\pycharmprojects\\ragollama\\.venv\\lib\\site-packages (from coloredlogs->onnxruntime>=1.19.0->unstructured[pdf]) (10.0)\n",
      "Requirement already satisfied: pyreadline3 in c:\\users\\skp68\\pycharmprojects\\ragollama\\.venv\\lib\\site-packages (from humanfriendly>=9.1->coloredlogs->onnxruntime>=1.19.0->unstructured[pdf]) (3.5.4)\n",
      "Requirement already satisfied: marshmallow<4.0.0,>=3.18.0 in c:\\users\\skp68\\pycharmprojects\\ragollama\\.venv\\lib\\site-packages (from dataclasses-json->unstructured[pdf]) (3.26.1)\n",
      "Requirement already satisfied: typing-inspect<1,>=0.4.0 in c:\\users\\skp68\\pycharmprojects\\ragollama\\.venv\\lib\\site-packages (from dataclasses-json->unstructured[pdf]) (0.9.0)\n",
      "Requirement already satisfied: mypy-extensions>=0.3.0 in c:\\users\\skp68\\pycharmprojects\\ragollama\\.venv\\lib\\site-packages (from typing-inspect<1,>=0.4.0->dataclasses-json->unstructured[pdf]) (1.1.0)\n",
      "Collecting torchvision (from effdet->unstructured[pdf])\n",
      "  Using cached torchvision-0.22.1-cp312-cp312-win_amd64.whl.metadata (6.1 kB)\n",
      "Requirement already satisfied: pycocotools>=2.0.2 in c:\\users\\skp68\\pycharmprojects\\ragollama\\.venv\\lib\\site-packages (from effdet->unstructured[pdf]) (2.0.10)\n",
      "Requirement already satisfied: omegaconf>=2.0 in c:\\users\\skp68\\pycharmprojects\\ragollama\\.venv\\lib\\site-packages (from effdet->unstructured[pdf]) (2.3.0)\n",
      "Requirement already satisfied: antlr4-python3-runtime==4.9.* in c:\\users\\skp68\\pycharmprojects\\ragollama\\.venv\\lib\\site-packages (from omegaconf>=2.0->effdet->unstructured[pdf]) (4.9.3)\n",
      "Collecting google-api-core!=2.0.*,!=2.1.*,!=2.10.*,!=2.2.*,!=2.3.*,!=2.4.*,!=2.5.*,!=2.6.*,!=2.7.*,!=2.8.*,!=2.9.*,<3.0.0,>=1.34.1 (from google-api-core[grpc]!=2.0.*,!=2.1.*,!=2.10.*,!=2.2.*,!=2.3.*,!=2.4.*,!=2.5.*,!=2.6.*,!=2.7.*,!=2.8.*,!=2.9.*,<3.0.0,>=1.34.1->google-cloud-vision->unstructured[pdf])\n",
      "  Using cached google_api_core-2.25.1-py3-none-any.whl.metadata (3.0 kB)\n",
      "Requirement already satisfied: google-auth!=2.24.0,!=2.25.0,<3.0.0,>=2.14.1 in c:\\users\\skp68\\pycharmprojects\\ragollama\\.venv\\lib\\site-packages (from google-cloud-vision->unstructured[pdf]) (2.40.3)\n",
      "Requirement already satisfied: proto-plus<2.0.0,>=1.22.3 in c:\\users\\skp68\\pycharmprojects\\ragollama\\.venv\\lib\\site-packages (from google-cloud-vision->unstructured[pdf]) (1.26.1)\n",
      "Requirement already satisfied: googleapis-common-protos<2.0.0,>=1.56.2 in c:\\users\\skp68\\pycharmprojects\\ragollama\\.venv\\lib\\site-packages (from google-api-core!=2.0.*,!=2.1.*,!=2.10.*,!=2.2.*,!=2.3.*,!=2.4.*,!=2.5.*,!=2.6.*,!=2.7.*,!=2.8.*,!=2.9.*,<3.0.0,>=1.34.1->google-api-core[grpc]!=2.0.*,!=2.1.*,!=2.10.*,!=2.2.*,!=2.3.*,!=2.4.*,!=2.5.*,!=2.6.*,!=2.7.*,!=2.8.*,!=2.9.*,<3.0.0,>=1.34.1->google-cloud-vision->unstructured[pdf]) (1.70.0)\n",
      "Requirement already satisfied: grpcio<2.0.0,>=1.33.2 in c:\\users\\skp68\\pycharmprojects\\ragollama\\.venv\\lib\\site-packages (from google-api-core[grpc]!=2.0.*,!=2.1.*,!=2.10.*,!=2.2.*,!=2.3.*,!=2.4.*,!=2.5.*,!=2.6.*,!=2.7.*,!=2.8.*,!=2.9.*,<3.0.0,>=1.34.1->google-cloud-vision->unstructured[pdf]) (1.74.0)\n",
      "Collecting grpcio-status<2.0.0,>=1.33.2 (from google-api-core[grpc]!=2.0.*,!=2.1.*,!=2.10.*,!=2.2.*,!=2.3.*,!=2.4.*,!=2.5.*,!=2.6.*,!=2.7.*,!=2.8.*,!=2.9.*,<3.0.0,>=1.34.1->google-cloud-vision->unstructured[pdf])\n",
      "  Using cached grpcio_status-1.74.0-py3-none-any.whl.metadata (1.1 kB)\n",
      "Requirement already satisfied: cachetools<6.0,>=2.0.0 in c:\\users\\skp68\\pycharmprojects\\ragollama\\.venv\\lib\\site-packages (from google-auth!=2.24.0,!=2.25.0,<3.0.0,>=2.14.1->google-cloud-vision->unstructured[pdf]) (5.5.2)\n",
      "Requirement already satisfied: pyasn1-modules>=0.2.1 in c:\\users\\skp68\\pycharmprojects\\ragollama\\.venv\\lib\\site-packages (from google-auth!=2.24.0,!=2.25.0,<3.0.0,>=2.14.1->google-cloud-vision->unstructured[pdf]) (0.4.2)\n",
      "Requirement already satisfied: rsa<5,>=3.1.4 in c:\\users\\skp68\\pycharmprojects\\ragollama\\.venv\\lib\\site-packages (from google-auth!=2.24.0,!=2.25.0,<3.0.0,>=2.14.1->google-cloud-vision->unstructured[pdf]) (4.9.1)\n",
      "Requirement already satisfied: idna<4,>=2.5 in c:\\users\\skp68\\pycharmprojects\\ragollama\\.venv\\lib\\site-packages (from requests->unstructured[pdf]) (3.10)\n",
      "Requirement already satisfied: urllib3<3,>=1.21.1 in c:\\users\\skp68\\pycharmprojects\\ragollama\\.venv\\lib\\site-packages (from requests->unstructured[pdf]) (2.5.0)\n",
      "Requirement already satisfied: certifi>=2017.4.17 in c:\\users\\skp68\\pycharmprojects\\ragollama\\.venv\\lib\\site-packages (from requests->unstructured[pdf]) (2025.7.14)\n",
      "Requirement already satisfied: pyasn1>=0.1.3 in c:\\users\\skp68\\pycharmprojects\\ragollama\\.venv\\lib\\site-packages (from rsa<5,>=3.1.4->google-auth!=2.24.0,!=2.25.0,<3.0.0,>=2.14.1->google-cloud-vision->unstructured[pdf]) (0.6.1)\n",
      "Requirement already satisfied: six>=1.9 in c:\\users\\skp68\\pycharmprojects\\ragollama\\.venv\\lib\\site-packages (from html5lib->unstructured[pdf]) (1.17.0)\n",
      "Requirement already satisfied: webencodings in c:\\users\\skp68\\pycharmprojects\\ragollama\\.venv\\lib\\site-packages (from html5lib->unstructured[pdf]) (0.5.1)\n",
      "Requirement already satisfied: MarkupSafe>=2.0 in c:\\users\\skp68\\pycharmprojects\\ragollama\\.venv\\lib\\site-packages (from jinja2->torch->unstructured-inference>=1.0.5->unstructured[pdf]) (3.0.2)\n",
      "Requirement already satisfied: contourpy>=1.0.1 in c:\\users\\skp68\\pycharmprojects\\ragollama\\.venv\\lib\\site-packages (from matplotlib->unstructured-inference>=1.0.5->unstructured[pdf]) (1.3.3)\n",
      "Requirement already satisfied: cycler>=0.10 in c:\\users\\skp68\\pycharmprojects\\ragollama\\.venv\\lib\\site-packages (from matplotlib->unstructured-inference>=1.0.5->unstructured[pdf]) (0.12.1)\n",
      "Requirement already satisfied: fonttools>=4.22.0 in c:\\users\\skp68\\pycharmprojects\\ragollama\\.venv\\lib\\site-packages (from matplotlib->unstructured-inference>=1.0.5->unstructured[pdf]) (4.59.0)\n",
      "Requirement already satisfied: kiwisolver>=1.3.1 in c:\\users\\skp68\\pycharmprojects\\ragollama\\.venv\\lib\\site-packages (from matplotlib->unstructured-inference>=1.0.5->unstructured[pdf]) (1.4.8)\n",
      "Requirement already satisfied: pyparsing>=2.3.1 in c:\\users\\skp68\\pycharmprojects\\ragollama\\.venv\\lib\\site-packages (from matplotlib->unstructured-inference>=1.0.5->unstructured[pdf]) (3.2.3)\n",
      "Requirement already satisfied: python-dateutil>=2.7 in c:\\users\\skp68\\pycharmprojects\\ragollama\\.venv\\lib\\site-packages (from matplotlib->unstructured-inference>=1.0.5->unstructured[pdf]) (2.9.0.post0)\n",
      "Requirement already satisfied: click in c:\\users\\skp68\\pycharmprojects\\ragollama\\.venv\\lib\\site-packages (from nltk->unstructured[pdf]) (8.2.2)\n",
      "Requirement already satisfied: joblib in c:\\users\\skp68\\pycharmprojects\\ragollama\\.venv\\lib\\site-packages (from nltk->unstructured[pdf]) (1.5.1)\n",
      "Requirement already satisfied: pytz>=2020.1 in c:\\users\\skp68\\pycharmprojects\\ragollama\\.venv\\lib\\site-packages (from pandas->unstructured-inference>=1.0.5->unstructured[pdf]) (2025.2)\n",
      "Requirement already satisfied: tzdata>=2022.7 in c:\\users\\skp68\\pycharmprojects\\ragollama\\.venv\\lib\\site-packages (from pandas->unstructured-inference>=1.0.5->unstructured[pdf]) (2025.2)\n",
      "Requirement already satisfied: cryptography>=36.0.0 in c:\\users\\skp68\\pycharmprojects\\ragollama\\.venv\\lib\\site-packages (from pdfminer.six->unstructured[pdf]) (45.0.5)\n",
      "Requirement already satisfied: cffi>=1.14 in c:\\users\\skp68\\pycharmprojects\\ragollama\\.venv\\lib\\site-packages (from cryptography>=36.0.0->pdfminer.six->unstructured[pdf]) (1.17.1)\n",
      "Requirement already satisfied: pycparser in c:\\users\\skp68\\pycharmprojects\\ragollama\\.venv\\lib\\site-packages (from cffi>=1.14->cryptography>=36.0.0->pdfminer.six->unstructured[pdf]) (2.22)\n",
      "Requirement already satisfied: Deprecated in c:\\users\\skp68\\pycharmprojects\\ragollama\\.venv\\lib\\site-packages (from pikepdf->unstructured[pdf]) (1.2.18)\n",
      "Requirement already satisfied: olefile in c:\\users\\skp68\\pycharmprojects\\ragollama\\.venv\\lib\\site-packages (from python-oxmsg->unstructured[pdf]) (0.47)\n",
      "Requirement already satisfied: aiofiles>=24.1.0 in c:\\users\\skp68\\pycharmprojects\\ragollama\\.venv\\lib\\site-packages (from unstructured-client->unstructured[pdf]) (24.1.0)\n",
      "Requirement already satisfied: httpcore>=1.0.9 in c:\\users\\skp68\\pycharmprojects\\ragollama\\.venv\\lib\\site-packages (from unstructured-client->unstructured[pdf]) (1.0.9)\n",
      "Requirement already satisfied: httpx>=0.27.0 in c:\\users\\skp68\\pycharmprojects\\ragollama\\.venv\\lib\\site-packages (from unstructured-client->unstructured[pdf]) (0.28.1)\n",
      "Requirement already satisfied: pydantic>=2.11.2 in c:\\users\\skp68\\pycharmprojects\\ragollama\\.venv\\lib\\site-packages (from unstructured-client->unstructured[pdf]) (2.11.7)\n",
      "Requirement already satisfied: requests-toolbelt>=1.0.0 in c:\\users\\skp68\\pycharmprojects\\ragollama\\.venv\\lib\\site-packages (from unstructured-client->unstructured[pdf]) (1.0.0)\n",
      "Requirement already satisfied: h11>=0.16 in c:\\users\\skp68\\pycharmprojects\\ragollama\\.venv\\lib\\site-packages (from httpcore>=1.0.9->unstructured-client->unstructured[pdf]) (0.16.0)\n",
      "Requirement already satisfied: anyio in c:\\users\\skp68\\pycharmprojects\\ragollama\\.venv\\lib\\site-packages (from httpx>=0.27.0->unstructured-client->unstructured[pdf]) (4.9.0)\n",
      "Requirement already satisfied: annotated-types>=0.6.0 in c:\\users\\skp68\\pycharmprojects\\ragollama\\.venv\\lib\\site-packages (from pydantic>=2.11.2->unstructured-client->unstructured[pdf]) (0.7.0)\n",
      "Requirement already satisfied: pydantic-core==2.33.2 in c:\\users\\skp68\\pycharmprojects\\ragollama\\.venv\\lib\\site-packages (from pydantic>=2.11.2->unstructured-client->unstructured[pdf]) (2.33.2)\n",
      "Requirement already satisfied: typing-inspection>=0.4.0 in c:\\users\\skp68\\pycharmprojects\\ragollama\\.venv\\lib\\site-packages (from pydantic>=2.11.2->unstructured-client->unstructured[pdf]) (0.4.1)\n",
      "Requirement already satisfied: sniffio>=1.1 in c:\\users\\skp68\\pycharmprojects\\ragollama\\.venv\\lib\\site-packages (from anyio->httpx>=0.27.0->unstructured-client->unstructured[pdf]) (1.3.1)\n",
      "Using cached unstructured_inference-1.0.5-py3-none-any.whl (48 kB)\n",
      "Using cached torch-2.7.1-cp312-cp312-win_amd64.whl (216.1 MB)\n",
      "Using cached effdet-0.4.1-py3-none-any.whl (112 kB)\n",
      "Using cached timm-1.0.19-py3-none-any.whl (2.5 MB)\n",
      "Using cached google_cloud_vision-3.10.2-py3-none-any.whl (527 kB)\n",
      "Using cached google_api_core-2.25.1-py3-none-any.whl (160 kB)\n",
      "Using cached grpcio_status-1.74.0-py3-none-any.whl (14 kB)\n",
      "Using cached matplotlib-3.10.5-cp312-cp312-win_amd64.whl (8.1 MB)\n",
      "Using cached pikepdf-9.10.2-cp312-cp312-win_amd64.whl (3.7 MB)\n",
      "Using cached torchvision-0.22.1-cp312-cp312-win_amd64.whl (1.7 MB)\n",
      "Installing collected packages: torch, pikepdf, matplotlib, grpcio-status, torchvision, google-api-core, timm, unstructured-inference, google-cloud-vision, effdet\n",
      "\n",
      "   ----------------------------------------  0/10 [torch]\n",
      "   ----------------------------------------  0/10 [torch]\n",
      "   ----------------------------------------  0/10 [torch]\n",
      "   ----------------------------------------  0/10 [torch]\n",
      "   ----------------------------------------  0/10 [torch]\n",
      "   ----------------------------------------  0/10 [torch]\n",
      "   ----------------------------------------  0/10 [torch]\n",
      "   ----------------------------------------  0/10 [torch]\n",
      "   ----------------------------------------  0/10 [torch]\n",
      "   ----------------------------------------  0/10 [torch]\n",
      "   ----------------------------------------  0/10 [torch]\n",
      "   ----------------------------------------  0/10 [torch]\n",
      "   ----------------------------------------  0/10 [torch]\n",
      "   ----------------------------------------  0/10 [torch]\n",
      "   ----------------------------------------  0/10 [torch]\n",
      "   ----------------------------------------  0/10 [torch]\n",
      "   ----------------------------------------  0/10 [torch]\n",
      "   ----------------------------------------  0/10 [torch]\n",
      "   ----------------------------------------  0/10 [torch]\n",
      "   ----------------------------------------  0/10 [torch]\n",
      "   ----------------------------------------  0/10 [torch]\n",
      "   ----------------------------------------  0/10 [torch]\n",
      "   ----------------------------------------  0/10 [torch]\n",
      "   ----------------------------------------  0/10 [torch]\n",
      "   ----------------------------------------  0/10 [torch]\n",
      "   ----------------------------------------  0/10 [torch]\n",
      "   ----------------------------------------  0/10 [torch]\n",
      "   ----------------------------------------  0/10 [torch]\n",
      "   ----------------------------------------  0/10 [torch]\n",
      "   ----------------------------------------  0/10 [torch]\n",
      "   ----------------------------------------  0/10 [torch]\n",
      "\n",
      "Note: you may need to restart the kernel to use updated packages.\n"
     ]
    }
   ],
   "execution_count": 18
  },
  {
   "metadata": {},
   "cell_type": "code",
   "outputs": [],
   "execution_count": null,
   "source": [
    "# Imports\n",
    "from langchain_community.document_loaders import UnstructuredPDFLoader\n",
    "from langchain_ollama import OllamaEmbeddings\n",
    "from langchain_text_splitters import RecursiveCharacterTextSplitter\n",
    "from langchain_community.vectorstores import Chroma\n",
    "from langchain.prompts import ChatPromptTemplate, PromptTemplate\n",
    "from langchain_core.output_parsers import StrOutputParser\n",
    "from langchain_ollama.chat_models import ChatOllama\n",
    "from langchain_core.runnables import RunnablePassthrough\n",
    "from langchain.retrievers.multi_query import MultiQueryRetriever\n",
    "\n",
    "# Suppress warnings\n",
    "import warnings\n",
    "warnings.filterwarnings('ignore')\n",
    "\n",
    "# Jupyter-specific imports\n",
    "from IPython.display import display, Markdown\n",
    "\n",
    "# Set environment variable for protobuf\n",
    "import os\n",
    "os.environ[\"PROTOCOL_BUFFERS_PYTHON_IMPLEMENTATION\"] = \"python\""
   ]
  },
  {
   "metadata": {},
   "cell_type": "markdown",
   "source": "## Load PDF"
  },
  {
   "cell_type": "code",
   "metadata": {
    "ExecuteTime": {
     "end_time": "2025-08-02T19:27:42.580380Z",
     "start_time": "2025-08-02T19:27:39.592725Z"
    }
   },
   "source": [
    "from PyPDF2 import PdfReader\n",
    "\n",
    "def load_pdf(file_path):\n",
    "    with open(file_path, \"rb\") as f:\n",
    "        reader = PdfReader(f)\n",
    "        return \" \".join([page.extract_text() for page in reader.pages if page.extract_text()])\n",
    "\n",
    "local_path = r\"C:\\Users\\skp68\\PycharmProjects\\RAGOLLAMA\\data\\AI Training Document.pdf\"\n",
    "data = load_pdf(local_path)\n",
    "print(\"Loaded:\", len(text), \"chars\")"
   ],
   "outputs": [
    {
     "name": "stdout",
     "output_type": "stream",
     "text": [
      "Loaded: 68688 chars\n"
     ]
    }
   ],
   "execution_count": 27
  },
  {
   "cell_type": "markdown",
   "metadata": {
    "ExecuteTime": {
     "end_time": "2025-08-02T19:24:49.695974Z",
     "start_time": "2025-08-02T19:24:49.524988Z"
    }
   },
   "source": "## Split text into chunks"
  },
  {
   "cell_type": "code",
   "metadata": {
    "ExecuteTime": {
     "end_time": "2025-08-02T19:30:15.507131Z",
     "start_time": "2025-08-02T19:30:15.442669Z"
    }
   },
   "source": [
    "# Split text into chunks\n",
    "from langchain_core.documents import Document\n",
    "from langchain_text_splitters import RecursiveCharacterTextSplitter\n",
    "\n",
    "# Assume 'data' is a string containing the full PDF text\n",
    "if isinstance(data, str):\n",
    "    # Wrap the text in a Document object\n",
    "    data = [Document(page_content=data)]\n",
    "\n",
    "# Now split safely\n",
    "text_splitter = RecursiveCharacterTextSplitter(chunk_size=1000, chunk_overlap=200)\n",
    "chunks = text_splitter.split_documents(data)\n",
    "\n",
    "print(f\"Text split into {len(chunks)} chunks\")"
   ],
   "outputs": [
    {
     "name": "stdout",
     "output_type": "stream",
     "text": [
      "Text split into 87 chunks\n"
     ]
    }
   ],
   "execution_count": 29
  },
  {
   "cell_type": "markdown",
   "metadata": {},
   "source": "## Create vector database"
  },
  {
   "cell_type": "code",
   "metadata": {
    "ExecuteTime": {
     "end_time": "2025-08-02T19:31:01.260504Z",
     "start_time": "2025-08-02T19:30:22.331047Z"
    }
   },
   "source": [
    "# Create vector database\n",
    "vector_db = Chroma.from_documents(\n",
    "    documents=chunks,\n",
    "    embedding=OllamaEmbeddings(model=\"nomic-embed-text\"),\n",
    "    collection_name=\"local-rag\"\n",
    ")\n",
    "print(\"Vector database created successfully\")"
   ],
   "outputs": [
    {
     "name": "stderr",
     "output_type": "stream",
     "text": [
      "Failed to send telemetry event ClientStartEvent: capture() takes 1 positional argument but 3 were given\n",
      "Failed to send telemetry event ClientCreateCollectionEvent: capture() takes 1 positional argument but 3 were given\n"
     ]
    },
    {
     "name": "stdout",
     "output_type": "stream",
     "text": [
      "Vector database created successfully\n"
     ]
    }
   ],
   "execution_count": 30
  },
  {
   "metadata": {},
   "cell_type": "markdown",
   "source": "## Set up LLM and Retrieval"
  },
  {
   "metadata": {},
   "cell_type": "code",
   "outputs": [],
   "execution_count": null,
   "source": [
    "# Set up LLM and retrieval\n",
    "local_model = \"llama3.2\"  # or whichever model you prefer\n",
    "llm = ChatOllama(model=local_model)"
   ]
  },
  {
   "cell_type": "code",
   "metadata": {
    "ExecuteTime": {
     "end_time": "2025-08-02T19:31:11.939270Z",
     "start_time": "2025-08-02T19:31:11.928816Z"
    }
   },
   "source": [
    "# Query prompt template\n",
    "QUERY_PROMPT = PromptTemplate(\n",
    "    input_variables=[\"question\"],\n",
    "    template=\"\"\"You are an AI language model assistant. Your task is to generate 2\n",
    "    different versions of the given user question to retrieve relevant documents from\n",
    "    a vector database. By generating multiple perspectives on the user question, your\n",
    "    goal is to help the user overcome some of the limitations of the distance-based\n",
    "    similarity search. Provide these alternative questions separated by newlines.\n",
    "    Original question: {question}\"\"\",\n",
    ")\n",
    "\n",
    "# Set up retriever\n",
    "retriever = MultiQueryRetriever.from_llm(\n",
    "    vector_db.as_retriever(), \n",
    "    llm,\n",
    "    prompt=QUERY_PROMPT\n",
    ")"
   ],
   "outputs": [],
   "execution_count": 32
  },
  {
   "metadata": {},
   "cell_type": "markdown",
   "source": "## Create chain"
  },
  {
   "metadata": {},
   "cell_type": "code",
   "outputs": [],
   "execution_count": null,
   "source": [
    "# RAG prompt template\n",
    "template = \"\"\"Answer the question based ONLY on the following context:\n",
    "{context}\n",
    "Question: {question}\n",
    "\"\"\"\n",
    "\n",
    "prompt = ChatPromptTemplate.from_template(template)"
   ]
  },
  {
   "cell_type": "code",
   "metadata": {
    "ExecuteTime": {
     "end_time": "2025-08-02T19:31:14.590733Z",
     "start_time": "2025-08-02T19:31:14.580140Z"
    }
   },
   "source": [
    "# Create chain\n",
    "chain = (\n",
    "    {\"context\": retriever, \"question\": RunnablePassthrough()}\n",
    "    | prompt\n",
    "    | llm\n",
    "    | StrOutputParser()\n",
    ")"
   ],
   "outputs": [],
   "execution_count": 34
  },
  {
   "metadata": {},
   "cell_type": "markdown",
   "source": "## Chat with PDF"
  },
  {
   "cell_type": "code",
   "metadata": {
    "ExecuteTime": {
     "end_time": "2025-08-02T19:31:15.943458Z",
     "start_time": "2025-08-02T19:31:15.938136Z"
    }
   },
   "source": [
    "def chat_with_pdf(question):\n",
    "    \"\"\"\n",
    "    Chat with the PDF using the RAG chain.\n",
    "    \"\"\"\n",
    "    return display(Markdown(chain.invoke(question)))"
   ],
   "outputs": [],
   "execution_count": 35
  },
  {
   "cell_type": "code",
   "metadata": {
    "ExecuteTime": {
     "end_time": "2025-08-02T19:43:18.238965Z",
     "start_time": "2025-08-02T19:31:16.557315Z"
    }
   },
   "source": [
    "# Example 1\n",
    "chat_with_pdf(\"What is the summary of this document?\")"
   ],
   "outputs": [
    {
     "name": "stderr",
     "output_type": "stream",
     "text": [
      "Failed to send telemetry event CollectionQueryEvent: capture() takes 1 positional argument but 3 were given\n"
     ]
    },
    {
     "data": {
      "text/plain": [
       "<IPython.core.display.Markdown object>"
      ],
      "text/markdown": "The main idea of this document appears to be a User Agreement for eBay's marketplace, outlining the terms and conditions that users must agree to in order to use the platform. It covers various aspects such as listing policies, dispute resolution, intellectual property, and user responsibilities. The document is long and detailed, indicating that it serves as a comprehensive agreement between eBay and its users."
     },
     "metadata": {},
     "output_type": "display_data"
    },
    {
     "data": {
      "text/plain": [
       "<IPython.core.display.Markdown object>"
      ],
      "text/markdown": "The document appears to be a User Agreement between eBay and its users. The summary can be condensed as follows:\n\n* eBay's role is limited in transactions between buyers and sellers.\n* eBay provides guidance, but users are responsible for following it.\n* Listings may not appear in search results due to various factors (e.g., buyer location, item format, price).\n* Users release any claims against eBay from disputes or claims.\n* Sellers are responsible for their listings, including compliance with public or private recalls.\n* Buyers and sellers agree to abide by the Rules and policies for buyers/sellers.\n\nNote that this summary is based only on the provided context (the \"section above\") and may not be a comprehensive overview of the entire document."
     },
     "metadata": {},
     "output_type": "display_data"
    }
   ],
   "execution_count": 42
  },
  {
   "metadata": {
    "ExecuteTime": {
     "end_time": "2025-08-02T20:16:33.051444Z",
     "start_time": "2025-08-02T20:15:14.926794Z"
    }
   },
   "cell_type": "code",
   "source": [
    "# Example 2\n",
    "chat_with_pdf(\"tell me about the returning policies?\")"
   ],
   "outputs": [
    {
     "data": {
      "text/plain": [
       "<IPython.core.display.Markdown object>"
      ],
      "text/markdown": "According to the provided context, here are some key points about eBay's returning policies:\n\n1. Sellers can create rules to automate replacements, returns, and refunds under certain circumstances.\n2. For new sellers, listings where returns are accepted will have a default rule that automates the return process.\n3. If a seller has set up this automation, an eBay-generated return shipping label will be provided to the buyer.\n4. Sellers must comply with eBay's returns policy.\n5. Buyers generally do not have the right to cancel an order, but they can request cancellation within a specified time period and according to eBay's Order Cancellation Policy.\n6. If a seller accepts the request, they have 3 days to respond.\n7. In certain cases, if a buyer is responsible for return shipping costs, they may elect to use an eBay-generated shipping label or purchase one directly from a carrier.\n8. Sellers are responsible for paying the cost of an eBay-generated return shipping label.\n\nAdditionally, the following points relate to returns and refunds:\n\n* If a transaction is canceled after payment has been completed, eBay may issue a refund to the buyer on the seller's behalf and charge the seller for the amount of the refund.\n* Sellers can also be charged for the cost of return shipping labels and/or other reasonable fees from sellers when certain conditions are met (e.g., using an eBay-generated label, returns being automated, etc.).\n* The eBay Payment Entities may invoice sellers for these charges and collect such charges as described in the Payments Terms of Use.\n* Refund timing may vary in accordance with the rules of third parties, such as credit and debit card networks.\n\nIt's worth noting that there are also certain restrictions on returns and refunds, including:\n\n* Sellers must comply with eBay's Money Back Guarantee or other applicable terms.\n* The buyer is responsible for paying any fees associated with a refund (e.g., PayPal fees).\n* Refunds may not be issued in all cases, depending on the specific circumstances of the return."
     },
     "metadata": {},
     "output_type": "display_data"
    }
   ],
   "execution_count": 43
  },
  {
   "metadata": {},
   "cell_type": "markdown",
   "source": "## Clean up (optional)"
  },
  {
   "metadata": {},
   "cell_type": "code",
   "outputs": [],
   "execution_count": null,
   "source": [
    "# Optional: Clean up when done \n",
    "vector_db.delete_collection()\n",
    "print(\"Vector database deleted successfully\")"
   ]
  }
 ],
 "metadata": {
  "kernelspec": {
   "display_name": ".venv",
   "language": "python",
   "name": "python3"
  },
  "language_info": {
   "codemirror_mode": {
    "name": "ipython",
    "version": 3
   },
   "file_extension": ".py",
   "mimetype": "text/x-python",
   "name": "python",
   "nbconvert_exporter": "python",
   "pygments_lexer": "ipython3",
   "version": "3.12.6"
  }
 },
 "nbformat": 4,
 "nbformat_minor": 2
}
